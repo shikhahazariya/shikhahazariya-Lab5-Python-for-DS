{
 "cells": [
  {
   "cell_type": "markdown",
   "id": "9363ee3b-5e34-4392-9633-53530169d3fa",
   "metadata": {},
   "source": [
    "1. Import required libraries"
   ]
  },
  {
   "cell_type": "code",
   "execution_count": 15,
   "id": "abebcd9a-b038-42c8-bcc5-f7f5352712f9",
   "metadata": {},
   "outputs": [],
   "source": [
    "import pandas as pd\n",
    "import numpy as np\n",
    "import seaborn as sns\n",
    "import matplotlib.pyplot as plt\n",
    "%matplotlib inline\n",
    "import warnings\n",
    "warnings.filterwarnings('ignore')\n",
    "from sklearn.preprocessing import StandardScaler\n",
    "from sklearn.model_selection import train_test_split\n",
    "from sklearn.linear_model import LinearRegression\n",
    "from sklearn.metrics import r2_score"
   ]
  },
  {
   "cell_type": "markdown",
   "id": "99587dd2-91b0-48e3-9bea-0c850ed6c51c",
   "metadata": {},
   "source": [
    "2. Load the dataset"
   ]
  },
  {
   "cell_type": "code",
   "execution_count": 16,
   "id": "382ae2ee-7af2-4f34-b751-93573f1e5f70",
   "metadata": {},
   "outputs": [
    {
     "data": {
      "text/html": [
       "<div>\n",
       "<style scoped>\n",
       "    .dataframe tbody tr th:only-of-type {\n",
       "        vertical-align: middle;\n",
       "    }\n",
       "\n",
       "    .dataframe tbody tr th {\n",
       "        vertical-align: top;\n",
       "    }\n",
       "\n",
       "    .dataframe thead th {\n",
       "        text-align: right;\n",
       "    }\n",
       "</style>\n",
       "<table border=\"1\" class=\"dataframe\">\n",
       "  <thead>\n",
       "    <tr style=\"text-align: right;\">\n",
       "      <th></th>\n",
       "      <th>Car_Name</th>\n",
       "      <th>Year</th>\n",
       "      <th>Selling_Price</th>\n",
       "      <th>Present_Price</th>\n",
       "      <th>Kms_Driven</th>\n",
       "      <th>Fuel_Type</th>\n",
       "      <th>Seller_Type</th>\n",
       "      <th>Transmission</th>\n",
       "      <th>Owner</th>\n",
       "    </tr>\n",
       "  </thead>\n",
       "  <tbody>\n",
       "    <tr>\n",
       "      <th>0</th>\n",
       "      <td>ritz</td>\n",
       "      <td>2014</td>\n",
       "      <td>3.35</td>\n",
       "      <td>5.59</td>\n",
       "      <td>27000</td>\n",
       "      <td>Petrol</td>\n",
       "      <td>Dealer</td>\n",
       "      <td>Manual</td>\n",
       "      <td>0</td>\n",
       "    </tr>\n",
       "    <tr>\n",
       "      <th>1</th>\n",
       "      <td>sx4</td>\n",
       "      <td>2013</td>\n",
       "      <td>4.75</td>\n",
       "      <td>9.54</td>\n",
       "      <td>43000</td>\n",
       "      <td>Diesel</td>\n",
       "      <td>Dealer</td>\n",
       "      <td>Manual</td>\n",
       "      <td>0</td>\n",
       "    </tr>\n",
       "    <tr>\n",
       "      <th>2</th>\n",
       "      <td>ciaz</td>\n",
       "      <td>2017</td>\n",
       "      <td>7.25</td>\n",
       "      <td>9.85</td>\n",
       "      <td>6900</td>\n",
       "      <td>Petrol</td>\n",
       "      <td>Dealer</td>\n",
       "      <td>Manual</td>\n",
       "      <td>0</td>\n",
       "    </tr>\n",
       "    <tr>\n",
       "      <th>3</th>\n",
       "      <td>wagon r</td>\n",
       "      <td>2011</td>\n",
       "      <td>2.85</td>\n",
       "      <td>4.15</td>\n",
       "      <td>5200</td>\n",
       "      <td>Petrol</td>\n",
       "      <td>Dealer</td>\n",
       "      <td>Manual</td>\n",
       "      <td>0</td>\n",
       "    </tr>\n",
       "    <tr>\n",
       "      <th>4</th>\n",
       "      <td>swift</td>\n",
       "      <td>2014</td>\n",
       "      <td>4.60</td>\n",
       "      <td>6.87</td>\n",
       "      <td>42450</td>\n",
       "      <td>Diesel</td>\n",
       "      <td>Dealer</td>\n",
       "      <td>Manual</td>\n",
       "      <td>0</td>\n",
       "    </tr>\n",
       "  </tbody>\n",
       "</table>\n",
       "</div>"
      ],
      "text/plain": [
       "  Car_Name  Year  Selling_Price  Present_Price  Kms_Driven Fuel_Type  \\\n",
       "0     ritz  2014           3.35           5.59       27000    Petrol   \n",
       "1      sx4  2013           4.75           9.54       43000    Diesel   \n",
       "2     ciaz  2017           7.25           9.85        6900    Petrol   \n",
       "3  wagon r  2011           2.85           4.15        5200    Petrol   \n",
       "4    swift  2014           4.60           6.87       42450    Diesel   \n",
       "\n",
       "  Seller_Type Transmission  Owner  \n",
       "0      Dealer       Manual      0  \n",
       "1      Dealer       Manual      0  \n",
       "2      Dealer       Manual      0  \n",
       "3      Dealer       Manual      0  \n",
       "4      Dealer       Manual      0  "
      ]
     },
     "execution_count": 16,
     "metadata": {},
     "output_type": "execute_result"
    }
   ],
   "source": [
    "df=pd.read_csv('car+data.csv')\n",
    "df.head()"
   ]
  },
  {
   "cell_type": "markdown",
   "id": "faa21106-6e2c-4a66-b498-c53fb1736f58",
   "metadata": {},
   "source": [
    "3. Check the shape and basic information of the dataset."
   ]
  },
  {
   "cell_type": "code",
   "execution_count": 17,
   "id": "d50cadf3-7edd-4561-8817-0294acbff97c",
   "metadata": {},
   "outputs": [
    {
     "data": {
      "text/plain": [
       "(301, 9)"
      ]
     },
     "execution_count": 17,
     "metadata": {},
     "output_type": "execute_result"
    }
   ],
   "source": [
    "df.shape"
   ]
  },
  {
   "cell_type": "code",
   "execution_count": 18,
   "id": "81b0d9d6-bdcd-460c-829e-c8b2f708dbc1",
   "metadata": {},
   "outputs": [
    {
     "name": "stdout",
     "output_type": "stream",
     "text": [
      "<class 'pandas.core.frame.DataFrame'>\n",
      "RangeIndex: 301 entries, 0 to 300\n",
      "Data columns (total 9 columns):\n",
      " #   Column         Non-Null Count  Dtype  \n",
      "---  ------         --------------  -----  \n",
      " 0   Car_Name       301 non-null    object \n",
      " 1   Year           301 non-null    int64  \n",
      " 2   Selling_Price  301 non-null    float64\n",
      " 3   Present_Price  301 non-null    float64\n",
      " 4   Kms_Driven     301 non-null    int64  \n",
      " 5   Fuel_Type      301 non-null    object \n",
      " 6   Seller_Type    301 non-null    object \n",
      " 7   Transmission   301 non-null    object \n",
      " 8   Owner          301 non-null    int64  \n",
      "dtypes: float64(2), int64(3), object(4)\n",
      "memory usage: 21.3+ KB\n"
     ]
    }
   ],
   "source": [
    "df.info()"
   ]
  },
  {
   "cell_type": "markdown",
   "id": "ddc795e3-e73e-4f0c-b66a-e85f0d110497",
   "metadata": {},
   "source": [
    "4. Check for the presence of the duplicate records in the dataset? If present drop them"
   ]
  },
  {
   "cell_type": "code",
   "execution_count": 19,
   "id": "90420da4-4b75-4ef2-86a8-2788b58b785c",
   "metadata": {},
   "outputs": [
    {
     "data": {
      "text/plain": [
       "2"
      ]
     },
     "execution_count": 19,
     "metadata": {},
     "output_type": "execute_result"
    }
   ],
   "source": [
    "len(df[df.duplicated()])"
   ]
  },
  {
   "cell_type": "code",
   "execution_count": 20,
   "id": "85c870d6-7b86-46ef-878a-6c7077a3928a",
   "metadata": {},
   "outputs": [],
   "source": [
    "df.drop_duplicates(inplace=True)"
   ]
  },
  {
   "cell_type": "code",
   "execution_count": 21,
   "id": "91a387e1-c630-46c9-a86e-fed96059663d",
   "metadata": {},
   "outputs": [
    {
     "data": {
      "text/plain": [
       "0"
      ]
     },
     "execution_count": 21,
     "metadata": {},
     "output_type": "execute_result"
    }
   ],
   "source": [
    "len(df[df.duplicated()])"
   ]
  },
  {
   "cell_type": "markdown",
   "id": "d484f124-af89-4046-9520-377d9a6fb658",
   "metadata": {},
   "source": [
    "5. Drop the columns which you think redundant for the analysis."
   ]
  },
  {
   "cell_type": "code",
   "execution_count": 22,
   "id": "d8fd3745-ac9f-4f63-9611-5e979985f166",
   "metadata": {},
   "outputs": [
    {
     "data": {
      "text/plain": [
       "Index(['Car_Name', 'Year', 'Selling_Price', 'Present_Price', 'Kms_Driven',\n",
       "       'Fuel_Type', 'Seller_Type', 'Transmission', 'Owner'],\n",
       "      dtype='object')"
      ]
     },
     "execution_count": 22,
     "metadata": {},
     "output_type": "execute_result"
    }
   ],
   "source": [
    "df.columns"
   ]
  },
  {
   "cell_type": "code",
   "execution_count": 24,
   "id": "1c00a94e-8f31-4c9b-b759-39681d0a8952",
   "metadata": {},
   "outputs": [],
   "source": [
    "df=df.drop( ['Seller_Type', 'Transmission', 'Owner'],axis=1 )"
   ]
  },
  {
   "cell_type": "code",
   "execution_count": 25,
   "id": "16afcd28-aaec-4e4a-bcee-a0a8c81009a1",
   "metadata": {},
   "outputs": [
    {
     "data": {
      "text/plain": [
       "Index(['Car_Name', 'Year', 'Selling_Price', 'Present_Price', 'Kms_Driven',\n",
       "       'Fuel_Type'],\n",
       "      dtype='object')"
      ]
     },
     "execution_count": 25,
     "metadata": {},
     "output_type": "execute_result"
    }
   ],
   "source": [
    "df.columns"
   ]
  },
  {
   "cell_type": "markdown",
   "id": "0fc45cf6-7e99-4fc5-98a4-839d3981f1c9",
   "metadata": {},
   "source": [
    " 6. Extract a new feature called 'age_of_the_car' from the feature 'year' and drop the feature year"
   ]
  },
  {
   "cell_type": "code",
   "execution_count": 27,
   "id": "5b76392d-5ff1-44d9-b376-a93a4a2cd4db",
   "metadata": {},
   "outputs": [],
   "source": [
    "from datetime import datetime\n",
    "\n",
    "current_year = datetime.now().year\n",
    "df['age_of_the_car'] = current_year - df['Year']\n",
    "df = df.drop('Year', axis=1)"
   ]
  },
  {
   "cell_type": "code",
   "execution_count": 28,
   "id": "81ab171e-80ef-4114-a840-9f58f8723f57",
   "metadata": {},
   "outputs": [
    {
     "data": {
      "text/plain": [
       "Index(['Car_Name', 'Selling_Price', 'Present_Price', 'Kms_Driven', 'Fuel_Type',\n",
       "       'age_of_the_car'],\n",
       "      dtype='object')"
      ]
     },
     "execution_count": 28,
     "metadata": {},
     "output_type": "execute_result"
    }
   ],
   "source": [
    "df.columns"
   ]
  },
  {
   "cell_type": "markdown",
   "id": "813f1c6a-b69e-4008-9b76-cda92574e56e",
   "metadata": {},
   "source": [
    "7. Encode the categorical columns"
   ]
  },
  {
   "cell_type": "code",
   "execution_count": 33,
   "id": "fc368dbe-b81d-4d25-a7c1-fb659db833d4",
   "metadata": {},
   "outputs": [
    {
     "data": {
      "text/html": [
       "<div>\n",
       "<style scoped>\n",
       "    .dataframe tbody tr th:only-of-type {\n",
       "        vertical-align: middle;\n",
       "    }\n",
       "\n",
       "    .dataframe tbody tr th {\n",
       "        vertical-align: top;\n",
       "    }\n",
       "\n",
       "    .dataframe thead th {\n",
       "        text-align: right;\n",
       "    }\n",
       "</style>\n",
       "<table border=\"1\" class=\"dataframe\">\n",
       "  <thead>\n",
       "    <tr style=\"text-align: right;\">\n",
       "      <th></th>\n",
       "      <th>Selling_Price</th>\n",
       "      <th>Present_Price</th>\n",
       "      <th>Kms_Driven</th>\n",
       "      <th>age_of_the_car</th>\n",
       "      <th>Car_Name_Activa 3g</th>\n",
       "      <th>Car_Name_Activa 4g</th>\n",
       "      <th>Car_Name_Bajaj  ct 100</th>\n",
       "      <th>Car_Name_Bajaj Avenger 150</th>\n",
       "      <th>Car_Name_Bajaj Avenger 150 street</th>\n",
       "      <th>Car_Name_Bajaj Avenger 220</th>\n",
       "      <th>...</th>\n",
       "      <th>Car_Name_ritz</th>\n",
       "      <th>Car_Name_s cross</th>\n",
       "      <th>Car_Name_swift</th>\n",
       "      <th>Car_Name_sx4</th>\n",
       "      <th>Car_Name_verna</th>\n",
       "      <th>Car_Name_vitara brezza</th>\n",
       "      <th>Car_Name_wagon r</th>\n",
       "      <th>Car_Name_xcent</th>\n",
       "      <th>Fuel_Type_Diesel</th>\n",
       "      <th>Fuel_Type_Petrol</th>\n",
       "    </tr>\n",
       "  </thead>\n",
       "  <tbody>\n",
       "    <tr>\n",
       "      <th>157</th>\n",
       "      <td>0.48</td>\n",
       "      <td>0.84</td>\n",
       "      <td>23000</td>\n",
       "      <td>9</td>\n",
       "      <td>False</td>\n",
       "      <td>False</td>\n",
       "      <td>False</td>\n",
       "      <td>False</td>\n",
       "      <td>False</td>\n",
       "      <td>False</td>\n",
       "      <td>...</td>\n",
       "      <td>False</td>\n",
       "      <td>False</td>\n",
       "      <td>False</td>\n",
       "      <td>False</td>\n",
       "      <td>False</td>\n",
       "      <td>False</td>\n",
       "      <td>False</td>\n",
       "      <td>False</td>\n",
       "      <td>False</td>\n",
       "      <td>True</td>\n",
       "    </tr>\n",
       "    <tr>\n",
       "      <th>296</th>\n",
       "      <td>9.50</td>\n",
       "      <td>11.60</td>\n",
       "      <td>33988</td>\n",
       "      <td>8</td>\n",
       "      <td>False</td>\n",
       "      <td>False</td>\n",
       "      <td>False</td>\n",
       "      <td>False</td>\n",
       "      <td>False</td>\n",
       "      <td>False</td>\n",
       "      <td>...</td>\n",
       "      <td>False</td>\n",
       "      <td>False</td>\n",
       "      <td>False</td>\n",
       "      <td>False</td>\n",
       "      <td>False</td>\n",
       "      <td>False</td>\n",
       "      <td>False</td>\n",
       "      <td>False</td>\n",
       "      <td>True</td>\n",
       "      <td>False</td>\n",
       "    </tr>\n",
       "    <tr>\n",
       "      <th>10</th>\n",
       "      <td>2.85</td>\n",
       "      <td>3.60</td>\n",
       "      <td>2135</td>\n",
       "      <td>7</td>\n",
       "      <td>False</td>\n",
       "      <td>False</td>\n",
       "      <td>False</td>\n",
       "      <td>False</td>\n",
       "      <td>False</td>\n",
       "      <td>False</td>\n",
       "      <td>...</td>\n",
       "      <td>False</td>\n",
       "      <td>False</td>\n",
       "      <td>False</td>\n",
       "      <td>False</td>\n",
       "      <td>False</td>\n",
       "      <td>False</td>\n",
       "      <td>False</td>\n",
       "      <td>False</td>\n",
       "      <td>False</td>\n",
       "      <td>True</td>\n",
       "    </tr>\n",
       "    <tr>\n",
       "      <th>122</th>\n",
       "      <td>1.05</td>\n",
       "      <td>1.17</td>\n",
       "      <td>6000</td>\n",
       "      <td>8</td>\n",
       "      <td>False</td>\n",
       "      <td>False</td>\n",
       "      <td>False</td>\n",
       "      <td>False</td>\n",
       "      <td>False</td>\n",
       "      <td>False</td>\n",
       "      <td>...</td>\n",
       "      <td>False</td>\n",
       "      <td>False</td>\n",
       "      <td>False</td>\n",
       "      <td>False</td>\n",
       "      <td>False</td>\n",
       "      <td>False</td>\n",
       "      <td>False</td>\n",
       "      <td>False</td>\n",
       "      <td>False</td>\n",
       "      <td>True</td>\n",
       "    </tr>\n",
       "    <tr>\n",
       "      <th>135</th>\n",
       "      <td>0.65</td>\n",
       "      <td>0.74</td>\n",
       "      <td>5000</td>\n",
       "      <td>9</td>\n",
       "      <td>False</td>\n",
       "      <td>False</td>\n",
       "      <td>False</td>\n",
       "      <td>False</td>\n",
       "      <td>False</td>\n",
       "      <td>False</td>\n",
       "      <td>...</td>\n",
       "      <td>False</td>\n",
       "      <td>False</td>\n",
       "      <td>False</td>\n",
       "      <td>False</td>\n",
       "      <td>False</td>\n",
       "      <td>False</td>\n",
       "      <td>False</td>\n",
       "      <td>False</td>\n",
       "      <td>False</td>\n",
       "      <td>True</td>\n",
       "    </tr>\n",
       "  </tbody>\n",
       "</table>\n",
       "<p>5 rows × 103 columns</p>\n",
       "</div>"
      ],
      "text/plain": [
       "     Selling_Price  Present_Price  Kms_Driven  age_of_the_car  \\\n",
       "157           0.48           0.84       23000               9   \n",
       "296           9.50          11.60       33988               8   \n",
       "10            2.85           3.60        2135               7   \n",
       "122           1.05           1.17        6000               8   \n",
       "135           0.65           0.74        5000               9   \n",
       "\n",
       "     Car_Name_Activa 3g  Car_Name_Activa 4g  Car_Name_Bajaj  ct 100  \\\n",
       "157               False               False                   False   \n",
       "296               False               False                   False   \n",
       "10                False               False                   False   \n",
       "122               False               False                   False   \n",
       "135               False               False                   False   \n",
       "\n",
       "     Car_Name_Bajaj Avenger 150  Car_Name_Bajaj Avenger 150 street  \\\n",
       "157                       False                              False   \n",
       "296                       False                              False   \n",
       "10                        False                              False   \n",
       "122                       False                              False   \n",
       "135                       False                              False   \n",
       "\n",
       "     Car_Name_Bajaj Avenger 220  ...  Car_Name_ritz  Car_Name_s cross  \\\n",
       "157                       False  ...          False             False   \n",
       "296                       False  ...          False             False   \n",
       "10                        False  ...          False             False   \n",
       "122                       False  ...          False             False   \n",
       "135                       False  ...          False             False   \n",
       "\n",
       "     Car_Name_swift  Car_Name_sx4  Car_Name_verna  Car_Name_vitara brezza  \\\n",
       "157           False         False           False                   False   \n",
       "296           False         False           False                   False   \n",
       "10            False         False           False                   False   \n",
       "122           False         False           False                   False   \n",
       "135           False         False           False                   False   \n",
       "\n",
       "     Car_Name_wagon r  Car_Name_xcent  Fuel_Type_Diesel  Fuel_Type_Petrol  \n",
       "157             False           False             False              True  \n",
       "296             False           False              True             False  \n",
       "10              False           False             False              True  \n",
       "122             False           False             False              True  \n",
       "135             False           False             False              True  \n",
       "\n",
       "[5 rows x 103 columns]"
      ]
     },
     "execution_count": 33,
     "metadata": {},
     "output_type": "execute_result"
    }
   ],
   "source": [
    "df=pd.get_dummies(df,drop_first=True)\n",
    "df.sample(5)"
   ]
  },
  {
   "cell_type": "code",
   "execution_count": null,
   "id": "2a7a80c9-dbe2-41b7-ba9d-499ecf22b760",
   "metadata": {},
   "outputs": [],
   "source": [
    " 8. Separate the target and independent features."
   ]
  },
  {
   "cell_type": "code",
   "execution_count": 34,
   "id": "926750f4-46e1-4a24-926c-47ae65bbc3db",
   "metadata": {},
   "outputs": [],
   "source": [
    "X = df.drop('Selling_Price',axis=1)\n",
    "y = df['Selling_Price']"
   ]
  },
  {
   "cell_type": "markdown",
   "id": "6800a0a9-e6ad-4cb1-a6c8-eca89801ff47",
   "metadata": {},
   "source": [
    "9. Split the data into train and test."
   ]
  },
  {
   "cell_type": "code",
   "execution_count": 36,
   "id": "fbb4711e-0283-49fa-a1e2-f06e4b8f041a",
   "metadata": {},
   "outputs": [
    {
     "name": "stdout",
     "output_type": "stream",
     "text": [
      "X_train shape: (239, 3)\n",
      "X_test shape: (60, 3)\n",
      "y_train shape: (239,)\n",
      "y_test shape: (60,)\n"
     ]
    }
   ],
   "source": [
    "\n",
    "# Assuming 'X' contains the features and 'y' contains the target variable\n",
    "X = df[['Selling_Price', 'Present_Price', 'Kms_Driven']]  # Replace with your actual feature columns\n",
    "y = df['Selling_Price']  # Replace with your actual target variable\n",
    "\n",
    "# Split the data into training and testing sets\n",
    "X_train, X_test, y_train, y_test = train_test_split(X, y, test_size=0.2, random_state=42)\n",
    "\n",
    "# The 'test_size' parameter specifies the proportion of the dataset to include in the test split\n",
    "# The 'random_state' parameter sets the random seed for reproducibility\n",
    "\n",
    "# Print the shapes of the resulting datasets\n",
    "print(\"X_train shape:\", X_train.shape)\n",
    "print(\"X_test shape:\", X_test.shape)\n",
    "print(\"y_train shape:\", y_train.shape)\n",
    "print(\"y_test shape:\", y_test.shape)"
   ]
  },
  {
   "cell_type": "markdown",
   "id": "a83d0efa-6454-401c-be56-35502923d00e",
   "metadata": {},
   "source": [
    " 10. Build a Random forest Regressor model and check the r2-score for train and test."
   ]
  },
  {
   "cell_type": "code",
   "execution_count": 38,
   "id": "11802118-5a36-4162-abfa-a5c420227b1c",
   "metadata": {},
   "outputs": [
    {
     "name": "stdout",
     "output_type": "stream",
     "text": [
      "R2 score for training set: 0.9974916978287267\n",
      "R2 score for test set: 0.9755011707201641\n"
     ]
    }
   ],
   "source": [
    "\n",
    "from sklearn.ensemble import RandomForestRegressor\n",
    "# Create a Random Forest Regressor model\n",
    "rf_regressor = RandomForestRegressor(n_estimators=100, random_state=42)  # You can adjust the number of estimators as needed\n",
    "\n",
    "# Train the model using the training sets\n",
    "rf_regressor.fit(X_train, y_train)\n",
    "\n",
    "# Make predictions on the training set\n",
    "y_train_pred = rf_regressor.predict(X_train)\n",
    "\n",
    "# Calculate the R2 score for the training set\n",
    "r2_train = r2_score(y_train, y_train_pred)\n",
    "print(\"R2 score for training set:\", r2_train)\n",
    "\n",
    "# Make predictions on the test set\n",
    "y_test_pred = rf_regressor.predict(X_test)\n",
    "\n",
    "# Calculate the R2 score for the test set\n",
    "r2_test = r2_score(y_test, y_test_pred)\n",
    "print(\"R2 score for test set:\", r2_test)"
   ]
  },
  {
   "cell_type": "markdown",
   "id": "6bdd1553-5cf5-4186-a1b7-c92f3808448b",
   "metadata": {},
   "source": [
    "11. Create a pickle file with an extension as .pkl"
   ]
  },
  {
   "cell_type": "code",
   "execution_count": 58,
   "id": "5c1cf77f-c434-4f0a-bbbe-7b04b1b06cd9",
   "metadata": {},
   "outputs": [
    {
     "name": "stdout",
     "output_type": "stream",
     "text": [
      "Pickle file created:  random_forest_model.pkl\n"
     ]
    }
   ],
   "source": [
    "import pickle\n",
    "# Specify the file name for the pickle file\n",
    "file_name = 'random_forest_model.pkl'\n",
    "\n",
    "# Open the file in binary write mode and serialize the model using pickle\n",
    "with open(file_name, 'wb') as file:\n",
    "    pickle.dump(rf_regressor, file)\n",
    "\n",
    "print(\"Pickle file created: \", file_name)"
   ]
  },
  {
   "cell_type": "markdown",
   "id": "8db7b6ac-8b62-447b-9385-7421525578f7",
   "metadata": {},
   "source": [
    "12. Create new folder/new project in visual studio/pycharm that should contain the \"model.pkl\" file *make sure you are using a virutal environment and install required packages.*"
   ]
  },
  {
   "cell_type": "markdown",
   "id": "f6cca922-f2c1-47e2-935e-9ec1df00630f",
   "metadata": {},
   "source": [
    "a) Create a basic HTML form for the frontend"
   ]
  },
  {
   "cell_type": "markdown",
   "id": "c7a39d2e-1042-4bf7-9803-88cb234b33a8",
   "metadata": {},
   "source": [
    "Create a file **index.html** in the templates folder and copy the following code."
   ]
  },
  {
   "cell_type": "code",
   "execution_count": null,
   "id": "aa1ab980-de3d-46c9-8fc0-f8dfe745c4df",
   "metadata": {},
   "outputs": [],
   "source": [
    "<!DOCTYPE html>\n",
    "<html lang=\"en\">\n",
    "<head>\n",
    "    <meta charset=\"UTF-8\">\n",
    "    <title>Document</title>\n",
    "</head>\n",
    "<body>\n",
    "<div class=\"hero-image\">\n",
    "      <div class=\"hero-text\">\n",
    "\n",
    "        <h1 style=\"font-size:50px\">Used Car Price Predictor</h1>\n",
    "         <br><br><h3>{{ prediction_text }}<h3>\n",
    "      </div>\n",
    "    </div>\n",
    "\n",
    "     <style>\n",
    "\n",
    "        body, html {\n",
    "          height: 100%;\n",
    "          margin: 0;\n",
    "          font-family: Arial, Helvetica, sans-serif;\n",
    "        }\n",
    "\n",
    "        .hero-image {\n",
    "          background-image: linear-gradient(rgba(0, 0, 0, 0.5), rgba(0, 0, 0, 0.5)), url('/static/image.jpg');\n",
    "          height: 50%;\n",
    "          background-position: bottom;\n",
    "          background-repeat: no-repeat;\n",
    "          background-size: cover;\n",
    "          position: relative;\n",
    "        }\n",
    "\n",
    "        .hero-text {\n",
    "          text-align: center;\n",
    "           position: absolute;\n",
    "          top: 50%;\n",
    "          left: 50%;\n",
    "          transform: translate(-50%, -50%);\n",
    "          color: white;\n",
    "        }\n",
    "\n",
    "    </style>\n",
    "\n",
    "\n",
    "    <div style=\"color:\trgb(0, 0, 0)\">\n",
    "        <form action=\"{{ url_for('predict')}}\" method=\"post\">\n",
    "            <h2>Enter Car Details: </h2>\n",
    "            <h3>Age of the car(In years)</h3>\n",
    "            <input id=\"first\" name=\"Age_of_the_car\" type=\"number \">\n",
    "            <h3>Present Showroom Price(In lakhs)</h3><br><input id=\"second\" name=\"Present_Price\" required=\"required\">\n",
    "            <h3>Kilometers Driven</h3><input id=\"third\" name=\"Kms_Driven\" required=\"required\">\n",
    "            <h3>Owner Type (0/1/3)</h3><br><input id=\"fourth\" name=\"Owner\" required=\"required\">\n",
    "            <h3>Fuel type</h3><br><select name=\"Fuel_Type\" id=\"fuel\" required=\"required\">\n",
    "                <option value=\"0\">Petrol</option>\n",
    "                <option value=\"1\">Diesel</option>\n",
    "                <option value=\"2\">CNG</option>\n",
    "            </select>\n",
    "            <h3>Seller Type</h3><br><select name=\"Seller_Type\" id=\"resea\" required=\"required\">\n",
    "                <option value=\"0\">Dealer</option>\n",
    "                <option value=\"1\">Individual</option>\n",
    "            </select>\n",
    "            <h3>Transmission type</h3><br><select name=\"Transmission\" id=\"research\" required=\"required\">\n",
    "                <option value=\"0\">Manual Car</option>\n",
    "                <option value=\"1\">Automatic Car</option>\n",
    "            </select>\n",
    "            <br><br><button id=\"sub\" type=\"submit \">Predict Selling Price</button>\n",
    "            <br>\n",
    "\n",
    "\n",
    "        </form>\n",
    "\n",
    "    </div>\n",
    "\n",
    "    <style>\n",
    "\tbody {\n",
    "            background-color: 101, 10, 20;\n",
    "            text-align: center;\n",
    "            padding: 0px;\n",
    "\t    font-family: Helvetica;\n",
    "        }\n",
    "\n",
    "        #research {\n",
    "            font-size: 18px;\n",
    "            width: 200px;\n",
    "            height: 23px;\n",
    "            top: 23px;\n",
    "        }\n",
    "        #box {\n",
    "            border-radius: 60px;\n",
    "            border-color: 45px;\n",
    "            border-style: solid;\n",
    "            text-align: center;\n",
    "            background-color: white;\n",
    "            font-size: medium;\n",
    "            position: absolute;\n",
    "            width: 700px;\n",
    "            bottom: 9%;\n",
    "            height: 850px;\n",
    "            right: 30%;\n",
    "            padding: 0px;\n",
    "            margin: 0px;\n",
    "            font-size: 14px;\n",
    "        }\n",
    "\n",
    "        #fuel {\n",
    "            width: 83px;\n",
    "            height: 43px;\n",
    "            text-align: center;\n",
    "            border-radius: 14px;\n",
    "            font-size: 20px;\n",
    "        }\n",
    "\n",
    "        #fuel:hover {\n",
    "            background-color: white;\n",
    "        }\n",
    "        #research {\n",
    "            width: 150px;\n",
    "            height: 43px;\n",
    "            text-align: center;\n",
    "            border-radius: 14px;\n",
    "            font-size: 18px;\n",
    "        }\n",
    "\n",
    "        #research:hover {\n",
    "            background-color: white;\n",
    "        }\n",
    "\n",
    "        #resea {\n",
    "            width: 99px;\n",
    "            height: 43px;\n",
    "            text-align: center;\n",
    "            border-radius: 14px;\n",
    "            font-size: 18px;\n",
    "        }\n",
    "\n",
    "        #resea:hover {\n",
    "            background-color: white;\n",
    "        }\n",
    "\n",
    "        #sub {\n",
    "            background-color: Green;\n",
    "            font-family:'Helvetica' monospace;\n",
    "            font-weight: bold;\n",
    "            width: 180px;\n",
    "            height: 60px;\n",
    "            text-align: center;\n",
    "            border-radius: 20px;\n",
    "            font-size: 18px;\n",
    "            color: white;\n",
    "        }\n",
    "\n",
    "        #sub:hover {\n",
    "            background-color: white;\n",
    "        }\n",
    "\n",
    "        #first {\n",
    "            border-radius: 14px;\n",
    "            height: 25px;\n",
    "            font-size: 20px;\n",
    "            text-align: center;\n",
    "        }\n",
    "#second {\n",
    "            border-radius: 14px;\n",
    "            height: 25px;\n",
    "            font-size: 20px;\n",
    "            text-align: center;\n",
    "        }\n",
    "\n",
    "        #third {\n",
    "            border-radius: 14px;\n",
    "            height: 25px;\n",
    "            font-size: 20px;\n",
    "            text-align: center;\n",
    "        }\n",
    "\n",
    "        #fourth {\n",
    "            border-radius: 14px;\n",
    "            height: 25px;\n",
    "            font-size: 20px;\n",
    "            text-align: center;\n",
    "        }\n",
    "    </style>\n",
    "</body>\n",
    "</html>"
   ]
  },
  {
   "cell_type": "markdown",
   "id": "e05df437-e466-46af-8c1d-aa9d5124c88b",
   "metadata": {},
   "source": [
    "b) Create app.py file and write the predict function"
   ]
  },
  {
   "cell_type": "code",
   "execution_count": 59,
   "id": "6556b404-a4a3-40a6-ad67-a74dd1fc288f",
   "metadata": {},
   "outputs": [],
   "source": [
    "from flask import Flask, render_template, request, jsonify\n",
    "import pickle\n",
    "import numpy as np\n",
    "import sklearn\n",
    "\n",
    "\n",
    "app = Flask(__name__)\n",
    "model = pickle.load(open('random_forest_model.pkl', 'rb'))\n",
    "\n",
    "\n",
    "@app.route('/',methods=['GET'])\n",
    "def Home():\n",
    "    return render_template('index.html')\n",
    "\n",
    "\n",
    "@app.route(\"/predict\", methods=['POST'])\n",
    "def predict():\n",
    "    if request.method == 'POST':\n",
    "        Present_Price=float(request.form['Present_Price'])\n",
    "        Kms_Driven=int(request.form['Kms_Driven'])\n",
    "        Owner=int(request.form['Owner'])\n",
    "        Fuel_Type=request.form['Fuel_Type']\n",
    "        Age_of_the_car=request.form['Age_of_the_car']\n",
    "        Seller_Type=request.form['Seller_Type']\n",
    "        Transmission=request.form['Transmission']\n",
    "\n",
    "        prediction=model.predict([[Present_Price,Kms_Driven,Owner,Age_of_the_car,Fuel_Type,Seller_Type,Transmission]])\n",
    "        output=round(prediction[0],2)\n",
    "        return render_template('index.html', prediction_text=\"You can sell your car at {} lakhs\".format(output))\n",
    "\n",
    "        if __name__ == \"__main__\":\n",
    "            app.run(debug=True)"
   ]
  },
  {
   "cell_type": "markdown",
   "id": "1c141352-61ff-4f4c-9ace-820005d4c552",
   "metadata": {},
   "source": [
    " 13. Run the app.py python file which will render to index html page then enter the input values and get the prediction."
   ]
  },
  {
   "cell_type": "code",
   "execution_count": 53,
   "id": "3aeed5a8-96d6-4ed9-af55-6cc0638dff94",
   "metadata": {},
   "outputs": [
    {
     "name": "stdout",
     "output_type": "stream",
     "text": [
      "The file random_forest_model.pkl exists.\n"
     ]
    }
   ],
   "source": [
    "import os\n",
    "file_path = 'random_forest_model.pkl'\n",
    "if os.path.exists(file_path):\n",
    "    print(f\"The file {file_path} exists.\")\n",
    "else:\n",
    "    print(f\"The file {file_path} does not exist.\")"
   ]
  },
  {
   "cell_type": "code",
   "execution_count": 54,
   "id": "23abccc9-a035-4f26-960a-e95d5752bcea",
   "metadata": {},
   "outputs": [
    {
     "name": "stdout",
     "output_type": "stream",
     "text": [
      "1.3.0\n"
     ]
    }
   ],
   "source": [
    "import sklearn\n",
    "print(sklearn.__version__)"
   ]
  },
  {
   "cell_type": "code",
   "execution_count": null,
   "id": "7059d116-465e-40d6-8b00-a781d3fae4f7",
   "metadata": {},
   "outputs": [],
   "source": []
  }
 ],
 "metadata": {
  "kernelspec": {
   "display_name": "Python 3 (ipykernel)",
   "language": "python",
   "name": "python3"
  },
  "language_info": {
   "codemirror_mode": {
    "name": "ipython",
    "version": 3
   },
   "file_extension": ".py",
   "mimetype": "text/x-python",
   "name": "python",
   "nbconvert_exporter": "python",
   "pygments_lexer": "ipython3",
   "version": "3.11.5"
  }
 },
 "nbformat": 4,
 "nbformat_minor": 5
}
